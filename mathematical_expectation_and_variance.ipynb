{
  "nbformat": 4,
  "nbformat_minor": 0,
  "metadata": {
    "colab": {
      "provenance": [],
      "authorship_tag": "ABX9TyNVQchngkAhZXfC1i5VL3hX",
      "include_colab_link": true
    },
    "kernelspec": {
      "name": "python3",
      "display_name": "Python 3"
    },
    "language_info": {
      "name": "python"
    }
  },
  "cells": [
    {
      "cell_type": "markdown",
      "metadata": {
        "id": "view-in-github",
        "colab_type": "text"
      },
      "source": [
        "<a href=\"https://colab.research.google.com/github/AndriiVasylenkoML/statistical-research-methods/blob/main/mathematical_expectation_and_variance.ipynb\" target=\"_parent\"><img src=\"https://colab.research.google.com/assets/colab-badge.svg\" alt=\"Open In Colab\"/></a>"
      ]
    },
    {
      "cell_type": "markdown",
      "source": [
        "# 1. Оцінки математичного сподівання (середнього значення) та дисперсії."
      ],
      "metadata": {
        "id": "MJ9EwXyRr0Fc"
      }
    },
    {
      "cell_type": "code",
      "execution_count": 1,
      "metadata": {
        "id": "xX58r1Q2rgRP"
      },
      "outputs": [],
      "source": [
        "import numpy as np"
      ]
    },
    {
      "cell_type": "markdown",
      "source": [],
      "metadata": {
        "id": "A1GN9iTrr0jD"
      }
    },
    {
      "cell_type": "code",
      "source": [
        "# Данні вибірки\n",
        "x = np.array([6, 6.3, 7.8, 6.7, 7.1, 8.8, 6, 7, 8.6])\n",
        "\n",
        "# 1. Обчислення вибіркової сподівання\n",
        "mean_x = np.mean(x)\n",
        "\n",
        "print(f\"\"\"\n",
        "{mean_x} = np.mean({x})\n",
        "\"\"\")"
      ],
      "metadata": {
        "colab": {
          "base_uri": "https://localhost:8080/"
        },
        "id": "81eNB3nZrzls",
        "outputId": "8b90cf5d-164f-412b-b851-b64085f2b025"
      },
      "execution_count": 2,
      "outputs": [
        {
          "output_type": "stream",
          "name": "stdout",
          "text": [
            "\n",
            "7.144444444444444 = np.mean([6.  6.3 7.8 6.7 7.1 8.8 6.  7.  8.6])\n",
            "\n"
          ]
        }
      ]
    },
    {
      "cell_type": "code",
      "source": [
        "# 2. Обчислення вибіркової дисперсії\n",
        "variance_x = np.var(x, ddof=1)  # ddof=1 для вибіркової дисперсії\n",
        "\n",
        "print(f\"\"\"\n",
        "{variance_x} = np.var({x}, ddof=1)\n",
        "\"\"\")"
      ],
      "metadata": {
        "colab": {
          "base_uri": "https://localhost:8080/"
        },
        "id": "gb6KI_OTutbw",
        "outputId": "f93c2fe8-fbce-4894-f236-71d83118c6df"
      },
      "execution_count": 7,
      "outputs": [
        {
          "output_type": "stream",
          "name": "stdout",
          "text": [
            "\n",
            "1.105277777777778 = np.var([6.  6.3 7.8 6.7 7.1 8.8 6.  7.  8.6], ddof=1)\n",
            "\n"
          ]
        }
      ]
    },
    {
      "cell_type": "code",
      "source": [
        "# 3. Визначення варіаційного ряду (сортування вибірки)\n",
        "sorted_x = np.sort(x)\n",
        "print(f\"\"\"\n",
        "{sorted_x} = np.sort({x})\n",
        "\"\"\")"
      ],
      "metadata": {
        "colab": {
          "base_uri": "https://localhost:8080/"
        },
        "id": "Adbx_ribuvc9",
        "outputId": "ee211f9b-cb47-4d06-c992-d7e2d5555ed2"
      },
      "execution_count": 3,
      "outputs": [
        {
          "output_type": "stream",
          "name": "stdout",
          "text": [
            "\n",
            "[6.  6.  6.3 6.7 7.  7.1 7.8 8.6 8.8] = np.sort([6.  6.3 7.8 6.7 7.1 8.8 6.  7.  8.6])\n",
            "\n"
          ]
        }
      ]
    },
    {
      "cell_type": "code",
      "source": [
        "# 4. Визначення рангів\n",
        "ranks = np.argsort(np.argsort(x)) + 1  # ранги (нумерація з 1)\n",
        "print(f\"\"\"\n",
        "ranks = np.argsort(np.argsort({x})) + 1\n",
        "\\n{ranks} = np.argsort({np.argsort(x)}) + 1\n",
        "\"\"\")"
      ],
      "metadata": {
        "colab": {
          "base_uri": "https://localhost:8080/"
        },
        "id": "FRbsrDDXuxSV",
        "outputId": "124ab24f-28eb-4b45-a9ec-caaf5f810bf7"
      },
      "execution_count": 6,
      "outputs": [
        {
          "output_type": "stream",
          "name": "stdout",
          "text": [
            "\n",
            "ranks = np.argsort(np.argsort([6.  6.3 7.8 6.7 7.1 8.8 6.  7.  8.6])) + 1\n",
            "\n",
            "[1 3 7 4 6 9 2 5 8] = np.argsort([0 6 1 3 7 4 2 8 5]) + 1\n",
            "\n"
          ]
        }
      ]
    },
    {
      "cell_type": "code",
      "source": [
        "print(f\"\"\"\n",
        "Математичне сподівання:{mean_x}\n",
        "\\nВибіркова дисперсія: {variance_x}\n",
        "\\nВаріаційний ряд (впорядкована вибірка): {sorted_x}\n",
        "\\nРанги елементів вибірки: {ranks}\n",
        "\"\"\")"
      ],
      "metadata": {
        "colab": {
          "base_uri": "https://localhost:8080/"
        },
        "id": "H3Cxt8GKvqdm",
        "outputId": "a5f28b9a-ed57-4d8e-c7bb-bc1519a5981d"
      },
      "execution_count": 10,
      "outputs": [
        {
          "output_type": "stream",
          "name": "stdout",
          "text": [
            "\n",
            "Математичне сподівання:7.144444444444444 \n",
            "\n",
            "Вибіркова дисперсія: 1.105277777777778 \n",
            "\n",
            "Варіаційний ряд (впорядкована вибірка): [6.  6.  6.3 6.7 7.  7.1 7.8 8.6 8.8]\n",
            "\n",
            "Ранги елементів вибірки: [1 3 7 4 6 9 2 5 8]\n",
            "\n"
          ]
        }
      ]
    },
    {
      "cell_type": "code",
      "source": [],
      "metadata": {
        "id": "qdWhgsjjw8ZL"
      },
      "execution_count": null,
      "outputs": []
    }
  ]
}