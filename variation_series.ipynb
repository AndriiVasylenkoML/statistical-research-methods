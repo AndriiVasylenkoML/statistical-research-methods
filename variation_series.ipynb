{
  "nbformat": 4,
  "nbformat_minor": 0,
  "metadata": {
    "colab": {
      "provenance": [],
      "gpuType": "T4",
      "authorship_tag": "ABX9TyO+j5Tc+SiPrq5+7in4Mwly",
      "include_colab_link": true
    },
    "kernelspec": {
      "name": "python3",
      "display_name": "Python 3"
    },
    "language_info": {
      "name": "python"
    },
    "accelerator": "GPU"
  },
  "cells": [
    {
      "cell_type": "markdown",
      "metadata": {
        "id": "view-in-github",
        "colab_type": "text"
      },
      "source": [
        "<a href=\"https://colab.research.google.com/github/AndriiVasylenkoML/statistical-research-methods/blob/main/variation_series.ipynb\" target=\"_parent\"><img src=\"https://colab.research.google.com/assets/colab-badge.svg\" alt=\"Open In Colab\"/></a>"
      ]
    },
    {
      "cell_type": "code",
      "execution_count": 13,
      "metadata": {
        "colab": {
          "base_uri": "https://localhost:8080/"
        },
        "id": "OYy9DOmJqfYi",
        "outputId": "27487503-dc3b-43bf-ebd5-8ca8831f53c8"
      },
      "outputs": [
        {
          "output_type": "stream",
          "name": "stdout",
          "text": [
            "General population: [1, 1, 1, 1, 1, 1, 1, 1, 1, 1, 1, 1, 1, 1, 1, 1, 1, 1, 1, 2, 2, 2, 2, 2, 2, 2, 2, 2, 2, 2, 2, 2, 2, 3, 3, 3, 3, 3, 3, 3, 3, 3, 3, 3, 3, 3, 3, 3, 3, 3, 3, 3, 3, 3, 3, 4, 4, 4, 4, 4, 4, 4, 4, 4, 4, 4, 4, 4, 4, 4, 4, 4, 4, 4, 4, 4, 4, 4, 5, 5, 5, 5, 5, 5, 5, 5, 5, 5, 5, 5, 5, 5, 5, 5, 5, 5, 5, 5, 5, 5]\n",
            "Lenght: 100\n"
          ]
        }
      ],
      "source": [
        "import random\n",
        "\n",
        "len_general_population = 100\n",
        "general_population = []\n",
        "for i in range(len_general_population):\n",
        "  value = random.randint(1, 5)\n",
        "  general_population.append(value)\n",
        "  general_population.sort()\n",
        "print(f\"General population: {general_population}\\nLenght: {len(general_population)}\")"
      ]
    },
    {
      "cell_type": "code",
      "source": [
        "\n",
        "def index_sample(len_sample):\n",
        "    index_sample = []\n",
        "    while len(index_sample) < len_sample:\n",
        "        index = random.randint(0, 99)\n",
        "        if index not in index_sample:\n",
        "            index_sample.append(index)\n",
        "        index_sample.sort()\n",
        "    return index_sample"
      ],
      "metadata": {
        "id": "Ml2uewGSwDFp"
      },
      "execution_count": 14,
      "outputs": []
    },
    {
      "cell_type": "code",
      "source": [
        "sample = []\n",
        "for i in index_sample(25):\n",
        "  print(f\"Index:{i} \\tValue:{general_population[i]}\")\n",
        "  sample.append(general_population[i])\n",
        "print(f\"Sample: {sample}\\nLenght: {len(sample)}\")"
      ],
      "metadata": {
        "colab": {
          "base_uri": "https://localhost:8080/"
        },
        "id": "lP5S1j5BxZif",
        "outputId": "cded7411-43a1-445f-c8c3-d4e0efff0174"
      },
      "execution_count": 15,
      "outputs": [
        {
          "output_type": "stream",
          "name": "stdout",
          "text": [
            "Index:0 \tValue:1\n",
            "Index:2 \tValue:1\n",
            "Index:7 \tValue:1\n",
            "Index:8 \tValue:1\n",
            "Index:9 \tValue:1\n",
            "Index:16 \tValue:1\n",
            "Index:17 \tValue:1\n",
            "Index:21 \tValue:2\n",
            "Index:23 \tValue:2\n",
            "Index:36 \tValue:3\n",
            "Index:37 \tValue:3\n",
            "Index:38 \tValue:3\n",
            "Index:39 \tValue:3\n",
            "Index:52 \tValue:3\n",
            "Index:54 \tValue:3\n",
            "Index:62 \tValue:4\n",
            "Index:73 \tValue:4\n",
            "Index:79 \tValue:5\n",
            "Index:80 \tValue:5\n",
            "Index:84 \tValue:5\n",
            "Index:85 \tValue:5\n",
            "Index:92 \tValue:5\n",
            "Index:93 \tValue:5\n",
            "Index:95 \tValue:5\n",
            "Index:96 \tValue:5\n",
            "Sample: [1, 1, 1, 1, 1, 1, 1, 2, 2, 3, 3, 3, 3, 3, 3, 4, 4, 5, 5, 5, 5, 5, 5, 5, 5]\n",
            "Lenght: 25\n"
          ]
        }
      ]
    },
    {
      "cell_type": "code",
      "source": [
        "variation_series = dict()\n",
        "for key in sample:\n",
        "    if key in variation_series.keys():\n",
        "        variation_series[key] += 1\n",
        "    else:\n",
        "        variation_series[key] = 1\n",
        "print(\"VARYATION SERIES\")\n",
        "for k, v in variation_series.items():\n",
        "    print(f\"Value: {k} \\tFrequency: {v}\")"
      ],
      "metadata": {
        "id": "rMGa_OAH4RHM",
        "colab": {
          "base_uri": "https://localhost:8080/"
        },
        "outputId": "8cc48e79-9ec0-4a00-831b-82a4a529c6e6"
      },
      "execution_count": 16,
      "outputs": [
        {
          "output_type": "stream",
          "name": "stdout",
          "text": [
            "VARYATION SERIES\n",
            "Value: 1 \tFrequency: 7\n",
            "Value: 2 \tFrequency: 2\n",
            "Value: 3 \tFrequency: 6\n",
            "Value: 4 \tFrequency: 2\n",
            "Value: 5 \tFrequency: 8\n"
          ]
        }
      ]
    }
  ]
}