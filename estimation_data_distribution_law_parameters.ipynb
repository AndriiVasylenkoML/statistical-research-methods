{
  "nbformat": 4,
  "nbformat_minor": 0,
  "metadata": {
    "colab": {
      "provenance": [],
      "authorship_tag": "ABX9TyPL4wOaGOLyBf/ZsR4253Jw",
      "include_colab_link": true
    },
    "kernelspec": {
      "name": "python3",
      "display_name": "Python 3"
    },
    "language_info": {
      "name": "python"
    }
  },
  "cells": [
    {
      "cell_type": "markdown",
      "metadata": {
        "id": "view-in-github",
        "colab_type": "text"
      },
      "source": [
        "<a href=\"https://colab.research.google.com/github/AndriiVasylenkoML/statistical-research-methods/blob/main/estimation_data_distribution_law_parameters.ipynb\" target=\"_parent\"><img src=\"https://colab.research.google.com/assets/colab-badge.svg\" alt=\"Open In Colab\"/></a>"
      ]
    },
    {
      "cell_type": "code",
      "execution_count": 4,
      "metadata": {
        "id": "3Airlo0k0jwB"
      },
      "outputs": [],
      "source": [
        "from scipy.stats import chi2_contingency, norm, expon, weibull_min\n",
        "import numpy as np\n"
      ]
    },
    {
      "cell_type": "code",
      "source": [
        "# Дані вибірки\n",
        "x = np.array([2.6, 2.5, 0.8, 2.8, 2.4, 2.1, 2.3, 3.4, 1.7, 1.7, 2.2, 1.3, 3.4, 2.3, 1.6, 1.4])\n",
        "\n",
        "# 1. Групування даних: Створюємо інтервали (класи)\n",
        "num_bins = 5  # обираємо кількість інтервалів\n",
        "frequencies, bin_edges = np.histogram(x, bins=num_bins)\n",
        "\n",
        "# Середини інтервалів для підрахунку теоретичних частот\n",
        "bin_centers = (bin_edges[:-1] + bin_edges[1:]) / 2\n",
        "\n"
      ],
      "metadata": {
        "id": "rBDXclXD1CUj"
      },
      "execution_count": 5,
      "outputs": []
    },
    {
      "cell_type": "code",
      "source": [
        "# 2. Оцінка параметрів для можливих розподілів\n",
        "\n",
        "# Нормальний розподіл\n",
        "mean_x = np.mean(x)\n",
        "std_x = np.std(x, ddof=1)\n",
        "theoretical_norm = norm.cdf(bin_edges, loc=mean_x, scale=std_x)\n",
        "theoretical_freq_norm = np.diff(theoretical_norm) * len(x)\n",
        "\n",
        "# Експоненційний розподіл\n",
        "lambda_exp = 1 / mean_x  # оцінка параметра для експоненційного розподілу\n",
        "theoretical_exp = expon.cdf(bin_edges, scale=1/lambda_exp)\n",
        "theoretical_freq_exp = np.diff(theoretical_exp) * len(x)\n",
        "\n",
        "# Вейбулів розподіл (з наближеним параметром k, знайденим раніше)\n",
        "weibull_k = 10.8  # використовую раніше знайдене наближене значення\n",
        "weibull_lambda = mean_x  # масштабний параметр оцінений як середнє\n",
        "theoretical_weibull = weibull_min.cdf(bin_edges, c=weibull_k, scale=weibull_lambda)\n",
        "theoretical_freq_weibull = np.diff(theoretical_weibull) * len(x)\n",
        "\n"
      ],
      "metadata": {
        "id": "VJBwk91L1YZl"
      },
      "execution_count": 6,
      "outputs": []
    },
    {
      "cell_type": "markdown",
      "source": [
        "[![image.png](https://i.postimg.cc/ry7fZDyX/image.png)](https://postimg.cc/3WCjdJDn)\n",
        "\n",
        "де 𝑂𝑖 — спостережувана частота, 𝐸𝑖 — очікувана частота."
      ],
      "metadata": {
        "id": "8SAqyc-v1lfG"
      }
    },
    {
      "cell_type": "code",
      "source": [
        "# 3. Обчислення критерію хі-квадрат для кожного з розподілів\n",
        "chi2_norm, p_norm = chi2_contingency([frequencies, theoretical_freq_norm])[:2]\n",
        "chi2_exp, p_exp = chi2_contingency([frequencies, theoretical_freq_exp])[:2]\n",
        "chi2_weibull, p_weibull = chi2_contingency([frequencies, theoretical_freq_weibull])[:2]\n",
        "\n",
        "print(f\"\"\"\n",
        "1. Частоти (фактичні) для кожного інтервалу:\n",
        "Теоретичні частоти для можливих розподілів: {frequencies}\n",
        "\\n2. Теоретичні частоти для можливих розподілів:\n",
        "Нормальний розподіл: {theoretical_freq_norm}\n",
        "Експоненційний розподіл: {theoretical_freq_exp}\n",
        "Вейбулів розподіл: {theoretical_freq_weibull}\n",
        "\\n3. Результати критерію хі-квадрат:\n",
        "Нормальний розподіл: 𝜒2 = {chi2_norm}, 𝑝-value = {p_norm}\n",
        "Експоненційний розподіл: 𝜒2 = {chi2_exp}, 𝑝-value = {p_exp}\n",
        "Вейбулів розподіл: 𝜒2 = {chi2_weibull}, 𝑝-value = {p_weibull}\n",
        "\"\"\")\n"
      ],
      "metadata": {
        "colab": {
          "base_uri": "https://localhost:8080/"
        },
        "id": "Ozr07IUE1btK",
        "outputId": "c4668d43-e62f-4bb7-fbc5-b6db28b51484"
      },
      "execution_count": 15,
      "outputs": [
        {
          "output_type": "stream",
          "name": "stdout",
          "text": [
            "\n",
            "1. Частоти (фактичні) для кожного інтервалу: \n",
            "Теоретичні частоти для можливих розподілів: [2 4 4 4 2] \n",
            "\n",
            "2. Теоретичні частоти для можливих розподілів:\n",
            "Нормальний розподіл: [1.4893814  3.31842832 4.49215533 3.69592004 1.84773205]\n",
            "Експоненційний розподіл: [2.36580778 1.85885387 1.46053189 1.1475638  0.90165965]\n",
            "Вейбулів розподіл: [7.93104009e-02 2.56049617e+00 1.22311629e+01 1.12867277e+00\n",
            " 2.05294981e-09]\n",
            "\n",
            "3. Результати критерію хі-квадрат:\n",
            "Нормальний розподіл: 𝜒2 = 0.14160385249024782, 𝑝-value = 0.9976087688604927\n",
            "Експоненційний розподіл: 𝜒2 = 1.2654833565905952, 𝑝-value = 0.8672039744279754\n",
            "Вейбулів розподіл: 𝜒2 = 9.871755175484504, 𝑝-value = 0.042644255472142914\n",
            "\n"
          ]
        }
      ]
    },
    {
      "cell_type": "code",
      "source": [],
      "metadata": {
        "id": "0Svb6Voa2Uze"
      },
      "execution_count": 7,
      "outputs": []
    }
  ]
}