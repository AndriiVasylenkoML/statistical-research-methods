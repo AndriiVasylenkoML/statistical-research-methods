{
  "nbformat": 4,
  "nbformat_minor": 0,
  "metadata": {
    "colab": {
      "provenance": [],
      "authorship_tag": "ABX9TyNWXXeKP1x9BpCULtoFAMTs",
      "include_colab_link": true
    },
    "kernelspec": {
      "name": "python3",
      "display_name": "Python 3"
    },
    "language_info": {
      "name": "python"
    }
  },
  "cells": [
    {
      "cell_type": "markdown",
      "metadata": {
        "id": "view-in-github",
        "colab_type": "text"
      },
      "source": [
        "<a href=\"https://colab.research.google.com/github/AndriiVasylenkoML/statistical-research-methods/blob/main/lab3_shapiro.ipynb\" target=\"_parent\"><img src=\"https://colab.research.google.com/assets/colab-badge.svg\" alt=\"Open In Colab\"/></a>"
      ]
    },
    {
      "cell_type": "code",
      "execution_count": 1,
      "metadata": {
        "id": "TvRnbmak0_2g",
        "colab": {
          "base_uri": "https://localhost:8080/"
        },
        "outputId": "059d8631-7ffc-4a4e-d9ef-8f5a7b72f162"
      },
      "outputs": [
        {
          "output_type": "stream",
          "name": "stdout",
          "text": [
            "[30, 19, 25, 15, 17, 22, 26, 29, 24, 27]\n"
          ]
        }
      ],
      "source": [
        "import random\n",
        "\n",
        "# Генеруємо список з 10 випадкових чисел від 10 до 30\n",
        "my_list = random.sample(range(10, 31), 10)\n",
        "\n",
        "print(my_list)"
      ]
    },
    {
      "cell_type": "code",
      "source": [
        "import numpy as np\n",
        "from scipy.stats import shapiro\n",
        "\n",
        "# Дані з завдання 3\n",
        "data_3 = [30, 19, 25, 15, 17, 22, 26, 29, 24, 27]\n",
        "\n",
        "# Основні статистичні характеристики\n",
        "mean_value_3 = np.mean(data_3)        # Середнє значення\n",
        "median_value_3 = np.median(data_3)    # Медіана\n",
        "min_value_3 = np.min(data_3)          # Мінімальне значення\n",
        "max_value_3 = np.max(data_3)          # Максимальне значення\n",
        "std_dev_3 = np.std(data_3, ddof=1)    # Вибіркове стандартне відхилення\n",
        "\n",
        "# Критерій Шапіро-Уілка\n",
        "shapiro_test_stat, shapiro_p_value = shapiro(data_3)\n",
        "\n",
        "# Результати\n",
        "print(f\"\"\"Середнє значення: {mean_value_3}\n",
        "Медіана: {median_value_3}\n",
        "Мінімальне значення: {min_value_3}\n",
        "Максимальне значення: {max_value_3}\n",
        "Вибіркове стандартне відхилення: {std_dev_3}\n",
        "\\nТест Шапіро: {shapiro_test_stat}\n",
        "Значення p: {shapiro_p_value}\"\"\")"
      ],
      "metadata": {
        "colab": {
          "base_uri": "https://localhost:8080/"
        },
        "id": "Z0obB22qdsC5",
        "outputId": "bbfb4ee9-fdf8-4c78-f06d-76e7006797ed"
      },
      "execution_count": 8,
      "outputs": [
        {
          "output_type": "stream",
          "name": "stdout",
          "text": [
            "Середнє значення: 23.4\n",
            "Медіана: 24.5\n",
            "Мінімальне значення: 15 \n",
            "Максимальне значення: 30\n",
            "Вибіркове стандартне відхилення: 5.059644256269407\n",
            "\n",
            "Тест Шапіро: 0.9506179422656763 \n",
            "Значення p: 0.6758156440662454\n"
          ]
        }
      ]
    },
    {
      "cell_type": "code",
      "source": [],
      "metadata": {
        "id": "n4W4A3FQeF6t"
      },
      "execution_count": null,
      "outputs": []
    }
  ]
}
