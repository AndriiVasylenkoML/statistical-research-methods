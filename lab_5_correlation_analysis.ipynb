{
  "nbformat": 4,
  "nbformat_minor": 0,
  "metadata": {
    "colab": {
      "provenance": [],
      "authorship_tag": "ABX9TyOdIwhweCKlTG0rDZqfpZhF",
      "include_colab_link": true
    },
    "kernelspec": {
      "name": "python3",
      "display_name": "Python 3"
    },
    "language_info": {
      "name": "python"
    }
  },
  "cells": [
    {
      "cell_type": "markdown",
      "metadata": {
        "id": "view-in-github",
        "colab_type": "text"
      },
      "source": [
        "<a href=\"https://colab.research.google.com/github/AndriiVasylenkoML/statistical-research-methods/blob/main/lab_5_correlation_analysis.ipynb\" target=\"_parent\"><img src=\"https://colab.research.google.com/assets/colab-badge.svg\" alt=\"Open In Colab\"/></a>"
      ]
    },
    {
      "cell_type": "code",
      "execution_count": 1,
      "metadata": {
        "id": "o6Cwx8NhC3yJ"
      },
      "outputs": [],
      "source": [
        "import numpy as np\n",
        "from scipy import stats"
      ]
    },
    {
      "cell_type": "code",
      "source": [
        "# Data (split into two samples as specified)\n",
        "sample1 = np.array([16.2, 14.4, 11.2, 11.4, 11.5, 14.8, 12.9, 15.6, 11.2])\n",
        "sample2 = np.array([17.7, 18.8, 19.8, 20.2, 20.1, 17.9, 14.6, 18.6, 16.5])"
      ],
      "metadata": {
        "id": "ePtS-zRHGMN4"
      },
      "execution_count": 2,
      "outputs": []
    },
    {
      "cell_type": "code",
      "source": [
        "# Step 1: Calculate Pearson correlation coefficient\n",
        "correlation, p_value_correlation = stats.pearsonr(sample1, sample2)\n",
        "\n",
        "print(\"Pearson correlation coefficient:\", correlation)\n",
        "print(\"p-value for correlation significance:\", p_value_correlation)"
      ],
      "metadata": {
        "colab": {
          "base_uri": "https://localhost:8080/"
        },
        "id": "8hip0YkKGOMM",
        "outputId": "c37d9602-37b9-4730-ffb1-28e58dbb032f"
      },
      "execution_count": 3,
      "outputs": [
        {
          "output_type": "stream",
          "name": "stdout",
          "text": [
            "Pearson correlation coefficient: -0.19719434109639256\n",
            "p-value for correlation significance: 0.6110698943837101\n"
          ]
        }
      ]
    },
    {
      "cell_type": "code",
      "source": [
        "# Step 2: Interpret the correlation significance\n",
        "n = len(sample1)  # sample size\n",
        "t_stat = correlation * np.sqrt((n - 2) / (1 - correlation**2)) if correlation != 1 else float('inf')\n",
        "t_critical = stats.t.ppf(1 - 0.05 / 2, n - 2)  # two-tailed test at alpha = 0.05\n",
        "\n",
        "# Output results\n",
        "\n",
        "print(\"t-statistic for correlation significance:\", t_stat)\n",
        "print(\"Critical t-value:\", t_critical)"
      ],
      "metadata": {
        "colab": {
          "base_uri": "https://localhost:8080/"
        },
        "id": "SksWmarxGYgz",
        "outputId": "85c15b16-2564-4a60-d438-7b0493e9f191"
      },
      "execution_count": 4,
      "outputs": [
        {
          "output_type": "stream",
          "name": "stdout",
          "text": [
            "t-statistic for correlation significance: -0.5321767875052442\n",
            "Critical t-value: 2.3646242515927844\n"
          ]
        }
      ]
    },
    {
      "cell_type": "code",
      "source": [],
      "metadata": {
        "id": "Kpdo5ePtGc7S"
      },
      "execution_count": 4,
      "outputs": []
    }
  ]
}