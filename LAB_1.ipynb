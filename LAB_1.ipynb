{
  "nbformat": 4,
  "nbformat_minor": 0,
  "metadata": {
    "colab": {
      "provenance": [],
      "authorship_tag": "ABX9TyM7tFlX313Mtc1sOlVwvzWw",
      "include_colab_link": true
    },
    "kernelspec": {
      "name": "python3",
      "display_name": "Python 3"
    },
    "language_info": {
      "name": "python"
    }
  },
  "cells": [
    {
      "cell_type": "markdown",
      "metadata": {
        "id": "view-in-github",
        "colab_type": "text"
      },
      "source": [
        "<a href=\"https://colab.research.google.com/github/AndriiVasylenkoML/statistical-research-methods/blob/main/LAB_1.ipynb\" target=\"_parent\"><img src=\"https://colab.research.google.com/assets/colab-badge.svg\" alt=\"Open In Colab\"/></a>"
      ]
    },
    {
      "cell_type": "code",
      "source": [
        "import numpy as np"
      ],
      "metadata": {
        "id": "yhRdbIyE7IDu"
      },
      "execution_count": null,
      "outputs": []
    },
    {
      "cell_type": "code",
      "execution_count": null,
      "metadata": {
        "colab": {
          "base_uri": "https://localhost:8080/"
        },
        "id": "Ta7rqFOs7BiN",
        "outputId": "4ac265e8-abdc-452c-b2ac-42893e56bd76"
      },
      "outputs": [
        {
          "output_type": "stream",
          "name": "stdout",
          "text": [
            "result: [27, 38, 48, 43, 46, 46, 55, 33, 66, 61, 48, 50, 36, 49, 46, 31, 53, 26, 49, 26]\n"
          ]
        }
      ],
      "source": [
        "# Updated data extracted from the table provided in the question\n",
        "data_full = np.array([\n",
        "    30, 38, 32, 49, 33, 42, 60, 30, 34, 61, 49, 64, 63, 37, 25, 38, 65, 56, 55, 43,\n",
        "    68, 38, 71, 47, 65, 54, 74, 36, 62, 31, 48, 35, 26, 62, 51, 67, 30, 57, 50, 62,\n",
        "    59, 56, 65, 50, 54, 61, 57, 55, 26, 43, 41, 64, 25, 25, 28, 49, 53, 25, 33, 28,\n",
        "    55, 26, 36, 63, 63, 37, 48, 57, 26, 55, 28, 63, 37, 49, 31, 59, 28, 73, 49, 44,\n",
        "    54, 67, 49, 59, 63, 26, 72, 25, 44, 25, 28, 42, 36, 33, 60, 27, 59, 59, 60, 26,\n",
        "    50, 39, 31, 60, 31, 66, 34, 30, 64, 64, 28, 64, 46, 46, 46, 46, 30, 46, 30, 64,\n",
        "    50, 53, 53, 50, 55, 55, 55, 55, 46, 55, 60, 44, 36, 36, 65, 60, 46, 65, 60, 53,\n",
        "    32, 32, 46, 46, 38, 27, 46, 59, 42, 57, 26, 57, 26, 50, 33, 33, 50, 44, 43, 35,\n",
        "    38, 38, 26, 25, 25, 36, 28, 44, 43, 43, 33, 50, 31, 31, 66, 59, 49, 31, 50, 66,\n",
        "    59, 26, 50, 64, 39, 26, 46, 30, 38, 59, 38, 62, 53, 26, 38, 29, 41, 36, 50, 41\n",
        "])\n",
        "\n",
        "# Set the random seed for reproducibility\n",
        "np.random.seed(42)\n",
        "\n",
        "sample_size = 20\n",
        "# Perform a random sample of size 20\n",
        "random_sample_full = np.random.choice(data_full, sample_size, replace=False)\n",
        "\n",
        "print(f\"Result: {[value for value in random_sample_full]}\")"
      ]
    },
    {
      "cell_type": "code",
      "source": [
        "data_full = np.array([\n",
        "    338, 348, 304, 314, 326, 314, 324, 304, 342, 308,\n",
        "    336, 304, 302, 338, 314, 304, 320, 321, 322, 321,\n",
        "    312, 323, 336, 324, 312, 312, 364, 356, 362, 302,\n",
        "    322, 310, 334, 292, 362, 381, 304, 366, 298, 304,\n",
        "    381, 368, 304, 298, 368, 290, 340, 328, 316, 322,\n",
        "    302, 314, 292, 342, 321, 322, 290, 332, 298, 296,\n",
        "    296, 298, 324, 338, 352, 326, 318, 304, 332, 322,\n",
        "    360, 312, 331, 331, 304, 316, 332, 282, 342, 338,\n",
        "    342, 322, 324, 325, 302, 328, 354, 330, 316, 324,\n",
        "    334, 350, 334, 324, 332, 340, 324, 314, 326, 323\n",
        "])\n",
        "\n",
        "np.random.seed(3)\n",
        "\n",
        "sample_size = 15\n",
        "\n",
        "random_sample_full = np.random.choice(data_full, sample_size, replace = False)\n",
        "\n",
        "print(f\"Result: {[value for value in random_sample_full]}\")"
      ],
      "metadata": {
        "colab": {
          "base_uri": "https://localhost:8080/"
        },
        "id": "IuD70oRv7M9x",
        "outputId": "21bbe893-3c91-4122-f2bf-cdcda5694d51"
      },
      "execution_count": null,
      "outputs": [
        {
          "output_type": "stream",
          "name": "stdout",
          "text": [
            "Result: [324, 304, 324, 352, 324, 325, 326, 304, 312, 304, 282, 308, 312, 314, 362]\n"
          ]
        }
      ]
    },
    {
      "cell_type": "code",
      "source": [],
      "metadata": {
        "id": "222EZ5oc_Ew-"
      },
      "execution_count": null,
      "outputs": []
    }
  ]
}