{
  "nbformat": 4,
  "nbformat_minor": 0,
  "metadata": {
    "colab": {
      "provenance": [],
      "authorship_tag": "ABX9TyMCZN2110QAgeR8vuTijgvU",
      "include_colab_link": true
    },
    "kernelspec": {
      "name": "python3",
      "display_name": "Python 3"
    },
    "language_info": {
      "name": "python"
    }
  },
  "cells": [
    {
      "cell_type": "markdown",
      "metadata": {
        "id": "view-in-github",
        "colab_type": "text"
      },
      "source": [
        "<a href=\"https://colab.research.google.com/github/AndriiVasylenkoML/statistical-research-methods/blob/main/lab_6_regression_analysis.ipynb\" target=\"_parent\"><img src=\"https://colab.research.google.com/assets/colab-badge.svg\" alt=\"Open In Colab\"/></a>"
      ]
    },
    {
      "cell_type": "code",
      "execution_count": null,
      "metadata": {
        "id": "GSoWJps9R100"
      },
      "outputs": [],
      "source": [
        "# Import necessary libraries for linear regression\n",
        "from scipy.stats import linregress"
      ]
    },
    {
      "cell_type": "code",
      "source": [
        "# Given data\n",
        "x_values = [i / 10 for i in range(1, 11)]  # xi values as i / 10 for i = 1 to 10\n",
        "y_values = [1.59, 1.58, 1.57, 1.62, 1.69, 1.88, 1.83, 1.83, 1.91, 2.02]  # yi values from the table"
      ],
      "metadata": {
        "id": "nB5rnm7LSB1T"
      },
      "execution_count": null,
      "outputs": []
    },
    {
      "cell_type": "code",
      "source": [
        "# Perform linear regression\n",
        "slope, intercept, r_value, p_value, std_err = linregress(x_values, y_values)\n",
        "\n",
        "# Store the regression model parameters (intercept and slope)\n",
        "intercept, slope"
      ],
      "metadata": {
        "colab": {
          "base_uri": "https://localhost:8080/"
        },
        "id": "MSMFBucrSHRk",
        "outputId": "63843764-ff90-4c28-f487-9709d4e139eb"
      },
      "execution_count": null,
      "outputs": [
        {
          "output_type": "execute_result",
          "data": {
            "text/plain": [
              "(1.4753333333333334, 0.5030303030303028)"
            ]
          },
          "metadata": {},
          "execution_count": 3
        }
      ]
    },
    {
      "cell_type": "code",
      "source": [],
      "metadata": {
        "id": "SGGVtVjISKgl"
      },
      "execution_count": null,
      "outputs": []
    }
  ]
}